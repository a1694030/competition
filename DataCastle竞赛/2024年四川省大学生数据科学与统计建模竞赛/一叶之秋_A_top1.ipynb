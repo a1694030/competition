{
 "cells": [
  {
   "cell_type": "code",
   "execution_count": null,
   "id": "eadae189",
   "metadata": {},
   "outputs": [],
   "source": [
    "import pandas as pd\n",
    "import numpy as np\n",
    "import seaborn as sns\n",
    "import matplotlib.pyplot as plt\n",
    "%matplotlib  inline\n",
    "plt.style.use('seaborn-darkgrid')\n",
    "sns.set(style = 'darkgrid')\n",
    "from sklearn.preprocessing import LabelEncoder\n",
    "from sklearn.metrics import roc_auc_score, precision_recall_curve, roc_curve, average_precision_score, log_loss, mean_squared_error\n",
    "from sklearn.model_selection import KFold, StratifiedKFold\n",
    "from sklearn.metrics import auc\n",
    "from dateutil.relativedelta import relativedelta\n",
    "from lightgbm import LGBMClassifier\n",
    "from xgboost import XGBClassifier\n",
    "from catboost import CatBoostClassifier\n",
    "import lightgbm as lgb\n",
    "import xgboost as xgb\n",
    "import catboost as cat\n",
    "from sklearn.model_selection import  train_test_split\n",
    "from sklearn.linear_model import LogisticRegression\n",
    "from tqdm import tqdm\n",
    "from scipy.stats import ks_2samp\n",
    "import gc\n",
    "import re\n",
    "import time\n",
    "import warnings \n",
    "warnings.filterwarnings('ignore')\n",
    "pd.options.display.max_rows=200\n",
    "pd.set_option('float_format', lambda x: '%.3f' % x)"
   ]
  },
  {
   "cell_type": "code",
   "execution_count": null,
   "id": "bad9364b",
   "metadata": {},
   "outputs": [],
   "source": [
    "def train_model_xlc(data_, test_, y_, folds_, model_type='lgb'):\n",
    "    oof_preds = np.zeros(data_.shape[0])  # 几折合并后的验证集预测label, (oof means out of fold)\n",
    "    sub_preds = np.zeros(test_.shape[0])  #  测试集预测概率结果\n",
    "    feature_importance_df = pd.DataFrame()  #  特征重要性数据框\n",
    "    feats = [f for f in feature_null_importance if f not in ['loan_id','isDefault','idx','label', 'date','prob']]\n",
    "\n",
    "    \n",
    "    if(model_type=='lgb'):   \n",
    "        for n_fold, (trn_idx, val_idx) in enumerate(folds_.split(data_,y_)):  # 统一放到模型篇在搞这个对比了\n",
    "    #     for n_fold, (trn_idx, val_idx) in enumerate(folds_.split(data_)):\n",
    "            trn_x, trn_y = data_[feats].iloc[trn_idx], y_.iloc[trn_idx]\n",
    "            val_x, val_y = data_[feats].iloc[val_idx], y_.iloc[val_idx]\n",
    "\n",
    "            clf = LGBMClassifier(\n",
    "                n_estimators=4000,\n",
    "                learning_rate=0.02,\n",
    "                num_leaves=2**5,\n",
    "                colsample_bytree=0.65,\n",
    "                subsample=0.9,\n",
    "                max_depth=5,\n",
    "                reg_alpha=0.3,\n",
    "                reg_lambda=0.3,\n",
    "                min_split_gain=0.01,\n",
    "                min_child_weight=2,\n",
    "                silent=-1,\n",
    "                verbose=-1,\n",
    "            )\n",
    "\n",
    "            clf.fit(trn_x, trn_y, \n",
    "                    eval_set= [(trn_x, trn_y), (val_x, val_y)], \n",
    "                    eval_metric='auc', callbacks=[lgb.early_stopping(200), lgb.log_evaluation(100)]\n",
    "                   )\n",
    "            \n",
    "            oof_preds[val_idx] = clf.predict_proba(val_x, num_iteration=clf.best_iteration_)[:, 1]\n",
    "            sub_preds += clf.predict_proba(test_[feats], num_iteration=clf.best_iteration_)[:, 1] / folds_.n_splits\n",
    "            \n",
    "            fold_importance_df = pd.DataFrame()\n",
    "            fold_importance_df[\"feature\"] = feats\n",
    "            fold_importance_df[\"importance\"] = clf.feature_importances_\n",
    "            fold_importance_df[\"fold\"] = n_fold + 1\n",
    "            feature_importance_df = pd.concat([feature_importance_df, fold_importance_df], axis=0)\n",
    "\n",
    "            print('Fold %2d AUC : %.6f' % (n_fold + 1, roc_auc_score(val_y, oof_preds[val_idx])))  #  (某一折真实验证集label, 某一折预测验证集label)\n",
    "            del clf, trn_x, trn_y, val_x, val_y   \n",
    "\n",
    "            gc.collect()    \n",
    "\n",
    "        print('Full AUC score %.6f' % roc_auc_score(y_, oof_preds))     # (训练集真实label, 几折合并后的验证集预测label)\n",
    "\n",
    "        test_['isDefault'] = sub_preds # 测试集预测概率结果\n",
    "        Full_AUC = roc_auc_score(y_, oof_preds)\n",
    "    \n",
    "    \n",
    "    if(model_type=='xgb'):   \n",
    "        for n_fold, (trn_idx, val_idx) in enumerate(folds_.split(data_,y_)):  # 统一放到模型篇在搞这个对比了\n",
    "    #     for n_fold, (trn_idx, val_idx) in enumerate(folds_.split(data_)):\n",
    "            trn_x, trn_y = data_[feats].iloc[trn_idx], y_.iloc[trn_idx]\n",
    "            val_x, val_y = data_[feats].iloc[val_idx], y_.iloc[val_idx]\n",
    "    \n",
    "            clf = XGBClassifier(\n",
    "                n_estimators=4000,\n",
    "                learning_rate=0.08,\n",
    "                objective = 'binary:logistic',\n",
    "                use_label_encoder=False,\n",
    "                booster='gbtree',\n",
    "                colsample_bytree=0.75,\n",
    "                subsample=0.9,\n",
    "                max_depth=5,\n",
    "                reg_alpha=0.3,\n",
    "                reg_lambda=0.3,\n",
    "                min_child_weight=2,\n",
    "                gamma = 0.1,\n",
    "                )\n",
    "            \n",
    "            clf.fit(trn_x, trn_y, \n",
    "                eval_set= [(trn_x, trn_y), (val_x, val_y)], \n",
    "                eval_metric='auc', verbose=100, early_stopping_rounds=40  #30\n",
    "               )\n",
    "            \n",
    "            oof_preds[val_idx] = clf.predict_proba(val_x)[:, 1]\n",
    "            sub_preds += clf.predict_proba(test_[feats], )[:, 1] / folds_.n_splits\n",
    "            \n",
    "            fold_importance_df = pd.DataFrame()\n",
    "            fold_importance_df[\"feature\"] = feats\n",
    "            fold_importance_df[\"importance\"] = clf.feature_importances_\n",
    "            fold_importance_df[\"fold\"] = n_fold + 1\n",
    "            feature_importance_df = pd.concat([feature_importance_df, fold_importance_df], axis=0)\n",
    "            \n",
    "            print('Fold %2d AUC : %.6f' % (n_fold + 1, roc_auc_score(val_y, oof_preds[val_idx])))  #  (某一折真实验证集label, 某一折预测验证集label)\n",
    "            del clf, trn_x, trn_y, val_x, val_y   \n",
    "\n",
    "            gc.collect() \n",
    "\n",
    "        print('Full AUC score %.6f' % roc_auc_score(y_, oof_preds))     # (训练集真实label, 几折合并后的验证集预测label)\n",
    "        \n",
    "        test_['isDefault'] = sub_preds # 测试集预测概率结果\n",
    "        Full_AUC = roc_auc_score(y_, oof_preds)\n",
    "    \n",
    "    if(model_type=='cat'):   \n",
    "        for n_fold, (trn_idx, val_idx) in enumerate(folds_.split(data_,y_)):  # 统一放到模型篇在搞这个对比了\n",
    "    #     for n_fold, (trn_idx, val_idx) in enumerate(folds_.split(data_)):\n",
    "            trn_x, trn_y = data_[feats].iloc[trn_idx], y_.iloc[trn_idx]\n",
    "            val_x, val_y = data_[feats].iloc[val_idx], y_.iloc[val_idx]\n",
    "    \n",
    "            clf = CatBoostClassifier(\n",
    "                iterations=4000,\n",
    "                learning_rate=0.08,\n",
    "                num_leaves=2**5,\n",
    "                subsample=0.9,\n",
    "                depth=5,\n",
    "                reg_lambda=0.3,\n",
    "                silent=True,\n",
    "                eval_metric='AUC' # catboost的eval_metric是要写在实例化这里的, 不同于xgb, lgb\n",
    "#                 verbose=-1,\n",
    "            )\n",
    "\n",
    "            clf.fit(trn_x, trn_y, \n",
    "                eval_set= [(trn_x, trn_y), (val_x, val_y)], \n",
    "#                 eval_metric='auc',\n",
    "                verbose=0, \n",
    "                early_stopping_rounds=40  #30\n",
    "               )\n",
    "            \n",
    "            oof_preds[val_idx] = clf.predict_proba(val_x)[:, 1]\n",
    "            sub_preds += clf.predict_proba(test_[feats])[:, 1] / folds_.n_splits\n",
    "            \n",
    "            fold_importance_df = pd.DataFrame()\n",
    "            fold_importance_df[\"feature\"] = feats\n",
    "            fold_importance_df[\"importance\"] = clf.feature_importances_\n",
    "            fold_importance_df[\"fold\"] = n_fold + 1\n",
    "            feature_importance_df = pd.concat([feature_importance_df, fold_importance_df], axis=0)\n",
    "\n",
    "            print('Fold %2d AUC : %.6f' % (n_fold + 1, roc_auc_score(val_y, oof_preds[val_idx])))  #  (某一折真实验证集label, 某一折预测验证集label)\n",
    "            del clf, trn_x, trn_y, val_x, val_y   \n",
    "\n",
    "            gc.collect()    \n",
    "\n",
    "        print('Full AUC score %.6f' % roc_auc_score(y_, oof_preds))     # (训练集真实label, 几折合并后的验证集预测label)\n",
    "\n",
    "        test_['isDefault'] = sub_preds # 测试集预测概率结果\n",
    "        Full_AUC = roc_auc_score(y_, oof_preds)\n",
    "    \n",
    "    \n",
    "    return oof_preds, test_[['loan_id', 'isDefault']],  feature_importance_df\n",
    "     # 几折合并后的验证集预测label, 测试集预测结果，特征重要性数据框"
   ]
  },
  {
   "cell_type": "code",
   "execution_count": null,
   "id": "72ee6575",
   "metadata": {},
   "outputs": [],
   "source": [
    "path = '/2024年四川省大学生数据科学与统计建模竞赛/'"
   ]
  },
  {
   "cell_type": "code",
   "execution_count": null,
   "id": "0823c707",
   "metadata": {},
   "outputs": [],
   "source": [
    "train_df = pd.read_csv(path + '训练集/train_data.csv')\n",
    "train_target = pd.read_csv(path + '训练集/train_target.csv')\n",
    "train_df['isDefault'] = train_target['y']\n",
    "train_df['date'] = train_target['date']\n",
    "train_df['loan_id']  = train_df['idx'] \n",
    "test = pd.read_csv(path + '测试集/test_data.csv')\n",
    "test['loan_id'] = test['idx']\n",
    "#date可以作为一个类别\n",
    "test['date'] = np.nan"
   ]
  },
  {
   "cell_type": "markdown",
   "id": "732b43a6",
   "metadata": {},
   "source": [
    "# 初步分析"
   ]
  },
  {
   "cell_type": "code",
   "execution_count": null,
   "id": "58177f46",
   "metadata": {},
   "outputs": [],
   "source": [
    "pivot=pd.pivot_table(train_df,index=['isDefault'],columns=['date'],values=['X278'],\n",
    "                    aggfunc=np.mean)\n",
    "pivot\n",
    "\n",
    "pivot1 = pivot.T.reset_index()\n",
    "pivot1['差'] = pivot1[1.0]-pivot1[0.0]\n",
    "pivot1[[0.0,1.0]].plot(figsize = (10,2))"
   ]
  },
  {
   "cell_type": "markdown",
   "id": "c73535c9",
   "metadata": {},
   "source": [
    "# 数据分析"
   ]
  },
  {
   "cell_type": "code",
   "execution_count": null,
   "id": "6281dd8c",
   "metadata": {},
   "outputs": [],
   "source": [
    "train_df_not_123 = train_df[train_df['date'].isin([1,2,3])]"
   ]
  },
  {
   "cell_type": "code",
   "execution_count": null,
   "id": "5659a0b8",
   "metadata": {},
   "outputs": [],
   "source": [
    "date_feas = ['date']\n",
    "orige_feas = ['X'+str(i) for i in range(0,21)]\n",
    "history_loan_feas = ['X'+str(i) for i in range(21,257)]\n",
    "other_act_feas = ['X'+str(i) for i in range(257,3806)]"
   ]
  },
  {
   "cell_type": "code",
   "execution_count": null,
   "id": "d30c237b",
   "metadata": {},
   "outputs": [],
   "source": [
    "len(history_loan_feas[30:40])"
   ]
  },
  {
   "cell_type": "code",
   "execution_count": null,
   "id": "fc8b69aa",
   "metadata": {},
   "outputs": [],
   "source": [
    "# 数据箱型图\n",
    "dist_cols = 5\n",
    "dist_rows = len(history_loan_feas[210:250])\n",
    "plt.figure(figsize=(4*dist_cols,4*dist_rows))\n",
    "i = 1\n",
    "for col in history_loan_feas[210:250]:\n",
    "    ax = plt.subplot(dist_rows,dist_cols,i)\n",
    "    ax = sns.boxenplot(train_df[col])\n",
    "    ax.set_xlabel(col[:30])\n",
    "    ax.set_ylabel('data')\n",
    "    i+=1\n",
    "plt.savefig('箱线图.png',dpi = 70)\n",
    "plt.show()"
   ]
  },
  {
   "cell_type": "markdown",
   "id": "6f633ae2",
   "metadata": {},
   "source": [
    "# 分布"
   ]
  },
  {
   "cell_type": "code",
   "execution_count": null,
   "id": "d12413ac",
   "metadata": {},
   "outputs": [],
   "source": [
    "# 数据分布查看\n",
    "dist_cols = 5\n",
    "dist_rows = len(history_loan_feas[30:70])\n",
    "plt.figure(figsize=(4*dist_cols,4*dist_rows))\n",
    "i = 1\n",
    "for col in history_loan_feas[30:70]:\n",
    "    ax = plt.subplot(dist_rows,dist_cols,i)\n",
    "    ax = sns.kdeplot(train_df[col],color='Red',shade= True)\n",
    "    ax  = sns.kdeplot(test[col],color='Blue',shade=True)\n",
    "    ax.set_xlabel(col)\n",
    "    ax.set_ylabel('Frequency')\n",
    "    ax = ax.legend(['train','test'])\n",
    "    i+=1\n",
    "plt.savefig('fenbu.png',dpi = 70)\n",
    "plt.show()"
   ]
  },
  {
   "cell_type": "markdown",
   "id": "6627f0f0",
   "metadata": {},
   "source": [
    "# 相关性"
   ]
  },
  {
   "cell_type": "code",
   "execution_count": null,
   "id": "9fa04d1c",
   "metadata": {},
   "outputs": [],
   "source": [
    "# 找出相关程度\n",
    "data_train=train_df_not_123[history_loan_feas[30:50]]\n",
    "plt.figure(figsize=(20, 16))  # 指定绘图对象宽度和高度\n",
    "colnm = data_train.columns.tolist()  # 列表头\n",
    "mcorr = data_train[colnm].corr(method=\"spearman\")  # 相关系数矩阵，即给出了任意两个变量之间的相关系数\n",
    "mask = np.zeros_like(mcorr)  # 构造与mcorr同维数矩阵 为bool型\n",
    "mask[np.triu_indices_from(mask)] = True  # 角分线右侧为True\n",
    "cmap = sns.diverging_palette(220, 10, as_cmap=True)  # 返回matplotlib colormap对象\n",
    "g = sns.heatmap(mcorr, mask=mask, cmap=cmap, square=True, annot=True, fmt='0.2f')  # 热力图（看两两相似度）\n",
    "plt.savefig('xinagguanxing.png',dpi = 70)\n",
    "plt.show()"
   ]
  },
  {
   "cell_type": "code",
   "execution_count": null,
   "id": "2a69108b",
   "metadata": {},
   "outputs": [],
   "source": []
  },
  {
   "cell_type": "markdown",
   "id": "2570fb3d",
   "metadata": {},
   "source": [
    "# 样本选择"
   ]
  },
  {
   "cell_type": "code",
   "execution_count": null,
   "id": "c96887ab",
   "metadata": {},
   "outputs": [],
   "source": [
    "train_df_not = train_df[~train_df['date'].isin([22, 27, 36, 61, 67])]"
   ]
  },
  {
   "cell_type": "markdown",
   "id": "444454f5",
   "metadata": {},
   "source": [
    "# 选择一部分样本作为特征筛选基础"
   ]
  },
  {
   "cell_type": "code",
   "execution_count": null,
   "id": "09d950a3",
   "metadata": {},
   "outputs": [],
   "source": [
    "train_df_not_123 = train_df_not[train_df_not['date'].isin([1,2,3])]"
   ]
  },
  {
   "cell_type": "code",
   "execution_count": null,
   "id": "361038b4",
   "metadata": {},
   "outputs": [],
   "source": [
    "# 计算相关系数矩阵\n",
    "corr_matrix = train_df_not_123.corr().abs()\n",
    "# 创建一个要删除的特征集合\n",
    "to_drop = set()\n",
    "\n",
    "# 遍历相关系数矩阵\n",
    "for i in range(len(corr_matrix.columns)):\n",
    "    for j in range(i):\n",
    "        # 取出相关性\n",
    "        if corr_matrix.iloc[i, j] > 0.8:\n",
    "            # 添加其中一个特征到要删除的集合\n",
    "            to_drop.add(corr_matrix.columns[i])\n",
    "\n",
    "# 剔除相关性高的特征\n",
    "df_reduced = train_df_not_123.drop(columns=to_drop)\n",
    "\n",
    "print(\"原始特征：\", train_df_not_123.columns.tolist())\n",
    "print(\"剔除的特征：\", list(to_drop))\n",
    "print(\"减少后的特征：\", df_reduced.columns.tolist())"
   ]
  },
  {
   "cell_type": "markdown",
   "id": "f85d901d",
   "metadata": {},
   "source": [
    "# 使用null_importance来筛选特征"
   ]
  },
  {
   "cell_type": "code",
   "execution_count": null,
   "id": "46ec1c36",
   "metadata": {},
   "outputs": [],
   "source": [
    "feats = [f for f in df_reduced.columns.tolist() + ['date'] if f not in ['loan_id','isDefault','idx','label']]"
   ]
  },
  {
   "cell_type": "code",
   "execution_count": null,
   "id": "623fd1c9",
   "metadata": {},
   "outputs": [],
   "source": [
    "data = train_df_not[feats]\n",
    "data['label'] = train_df_not['isDefault'] "
   ]
  },
  {
   "cell_type": "code",
   "execution_count": null,
   "id": "739e4cb3",
   "metadata": {},
   "outputs": [],
   "source": [
    "def get_feature_importances(data, shuffle, seed=None):\n",
    "    # 获得特征\n",
    "    train_features = [f for f in data if f not in ['label']]\n",
    "    #记录分数和功能重要性\n",
    "    #无序放目标\n",
    "    y = data['label'].copy()\n",
    "    if shuffle:\n",
    "        y = data['label'].copy().sample(frac=1.0)\n",
    "\n",
    "        # 拟合 LightGBM\n",
    "    dtrain = lgb.Dataset(data[train_features], y, free_raw_data=False)\n",
    "    lgb_params = {\n",
    "        'objective': 'binary',\n",
    "        'boosting_type': 'rf',\n",
    "        'subsample': 0.623,\n",
    "        'colsample_bytree': 0.7,\n",
    "        'num_leaves': 127,\n",
    "        'max_depth': 8,\n",
    "        'seed': seed,\n",
    "        'bagging_freq': 1,\n",
    "        'verbose': -1,\n",
    "        'n_jobs': 4\n",
    "    }\n",
    "\n",
    "    # 拟合模型\n",
    "    clf = lgb.train(params=lgb_params, train_set=dtrain, num_boost_round=200)# categorical_feature=categorical_feats)\n",
    "\n",
    "    # 的到特征重要性\n",
    "    imp_df = pd.DataFrame()\n",
    "    imp_df[\"feature\"] = list(train_features)\n",
    "    imp_df[\"importance_gain\"] = clf.feature_importance(importance_type='gain')\n",
    "    imp_df[\"importance_split\"] = clf.feature_importance(importance_type='split')\n",
    "    imp_df['trn_score'] = roc_auc_score(y, clf.predict(data[train_features]))\n",
    "\n",
    "    return imp_df"
   ]
  },
  {
   "cell_type": "code",
   "execution_count": null,
   "id": "e1aa82fc",
   "metadata": {},
   "outputs": [],
   "source": [
    "actual_imp_df = get_feature_importances(data=data, shuffle=False)\n",
    "\n",
    "null_imp_df = pd.DataFrame()\n",
    "nb_runs = 80\n",
    "for i in tqdm(range(nb_runs)):\n",
    "    # #获取当前运行重要性\n",
    "    imp_df = get_feature_importances(data=data, shuffle=True)\n",
    "    null_imp_df = pd.concat([null_imp_df, imp_df], axis=0)"
   ]
  },
  {
   "cell_type": "code",
   "execution_count": null,
   "id": "6719b0df",
   "metadata": {},
   "outputs": [],
   "source": [
    "feature_scores = []\n",
    "for _f in tqdm(actual_imp_df['feature'].unique()):\n",
    "    f_null_imps_gain = null_imp_df.loc[null_imp_df['feature'] == _f, 'importance_gain'].values\n",
    "    f_act_imps_gain = actual_imp_df.loc[actual_imp_df['feature'] == _f, 'importance_gain'].mean()\n",
    "    gain_score = np.log(1e-10 + f_act_imps_gain / (1 + np.percentile(f_null_imps_gain, 75)))  # 避免被零分割\n",
    "    f_null_imps_split = null_imp_df.loc[null_imp_df['feature'] == _f, 'importance_split'].values\n",
    "    f_act_imps_split = actual_imp_df.loc[actual_imp_df['feature'] == _f, 'importance_split'].mean()\n",
    "    split_score = np.log(1e-10 + f_act_imps_split / (1 + np.percentile(f_null_imps_split, 75)))  # 避免被零分割\n",
    "    feature_scores.append((_f, split_score, gain_score))\n",
    "\n",
    "scores_df = pd.DataFrame(feature_scores, columns=['feature', 'split_score', 'gain_score'])\n",
    "scores_df = scores_df.sort_values('split_score', ascending=False)"
   ]
  },
  {
   "cell_type": "code",
   "execution_count": null,
   "id": "88a35ba2",
   "metadata": {},
   "outputs": [],
   "source": [
    "scores_df.reset_index().drop('index',axis=1).head(15)"
   ]
  },
  {
   "cell_type": "code",
   "execution_count": null,
   "id": "34ce5112",
   "metadata": {},
   "outputs": [],
   "source": [
    "# -1 0.7058\n",
    "feature_null_importance = scores_df[scores_df['gain_score']>-1]['feature'].to_list()"
   ]
  },
  {
   "cell_type": "code",
   "execution_count": null,
   "id": "24169c2d",
   "metadata": {},
   "outputs": [],
   "source": [
    "print(len(feature_null_importance))"
   ]
  },
  {
   "cell_type": "markdown",
   "id": "2670909c",
   "metadata": {},
   "source": [
    "# model1"
   ]
  },
  {
   "cell_type": "code",
   "execution_count": null,
   "id": "99f9b984",
   "metadata": {
    "scrolled": true
   },
   "outputs": [],
   "source": [
    "y = train_df_not['isDefault']\n",
    "folds = KFold(n_splits=5, shuffle=True, random_state=8828) # lgb: 0.879945   xgb: 0.871812  cat: 0.878727\n",
    "oof_preds_cat1, IntePre_cat1, importances_cat1 = train_model_xlc(train_df_not, test, y, folds, model_type='cat')\n",
    "\n",
    "# y = train_df_not['isDefault']\n",
    "# folds = KFold(n_splits=5, shuffle=True, random_state=8828) # lgb: 0.879945   xgb: 0.871812  cat: 0.878727\n",
    "# oof_preds_xgb, IntePre_xgb, importances_xgb = train_model_xlc(train_df_not, test, y, folds, model_type='xgb')\n",
    "\n",
    "y = train_df_not['isDefault']\n",
    "folds = KFold(n_splits=5, shuffle=True, random_state=8828) # lgb: 0.698101   xgb: 0.693  cat: 0.696\n",
    "oof_preds, IntePre, importances = train_model_xlc(train_df_not, test, y, folds, model_type='lgb')"
   ]
  },
  {
   "cell_type": "code",
   "execution_count": null,
   "id": "a33327bf",
   "metadata": {},
   "outputs": [],
   "source": [
    "IntePre"
   ]
  },
  {
   "cell_type": "markdown",
   "id": "553324e4",
   "metadata": {},
   "source": [
    "# model2"
   ]
  },
  {
   "cell_type": "code",
   "execution_count": null,
   "id": "c2c12815",
   "metadata": {},
   "outputs": [],
   "source": [
    "def train_model_xlc(data_, test_, y_, folds_,feature1, model_type='lgb'):\n",
    "    oof_preds = np.zeros(data_.shape[0])  # 几折合并后的验证集预测label, (oof means out of fold)\n",
    "    sub_preds = np.zeros(test_.shape[0])  #  测试集预测概率结果\n",
    "    feature_importance_df = pd.DataFrame()  #  特征重要性数据框\n",
    "    feats = [f for f in data_.columns if f not in ['loan_id','isDefault','idx','label'] + feature1]\n",
    "\n",
    "    \n",
    "    if(model_type=='lgb'):   \n",
    "        for n_fold, (trn_idx, val_idx) in enumerate(folds_.split(data_,y_)):  # 统一放到模型篇在搞这个对比了\n",
    "    #     for n_fold, (trn_idx, val_idx) in enumerate(folds_.split(data_)):\n",
    "            trn_x, trn_y = data_[feats].iloc[trn_idx], y_.iloc[trn_idx]\n",
    "            val_x, val_y = data_[feats].iloc[val_idx], y_.iloc[val_idx]\n",
    "\n",
    "            clf = LGBMClassifier(\n",
    "                n_estimators=4000,\n",
    "                learning_rate=0.02,\n",
    "                num_leaves=2**5,\n",
    "                colsample_bytree=0.65,\n",
    "                subsample=0.9,\n",
    "                max_depth=5,\n",
    "                reg_alpha=0.3,\n",
    "                reg_lambda=0.3,\n",
    "                min_split_gain=0.01,\n",
    "                min_child_weight=2,\n",
    "                silent=-1,\n",
    "                verbose=-1,\n",
    "            )\n",
    "\n",
    "            clf.fit(trn_x, trn_y, \n",
    "                    eval_set= [(trn_x, trn_y), (val_x, val_y)], \n",
    "                    eval_metric='auc', callbacks=[lgb.early_stopping(200), lgb.log_evaluation(100)]\n",
    "                   )\n",
    "            \n",
    "            oof_preds[val_idx] = clf.predict_proba(val_x, num_iteration=clf.best_iteration_)[:, 1]\n",
    "            sub_preds += clf.predict_proba(test_[feats], num_iteration=clf.best_iteration_)[:, 1] / folds_.n_splits\n",
    "            \n",
    "            fold_importance_df = pd.DataFrame()\n",
    "            fold_importance_df[\"feature\"] = feats\n",
    "            fold_importance_df[\"importance\"] = clf.feature_importances_\n",
    "            fold_importance_df[\"fold\"] = n_fold + 1\n",
    "            feature_importance_df = pd.concat([feature_importance_df, fold_importance_df], axis=0)\n",
    "\n",
    "            print('Fold %2d AUC : %.6f' % (n_fold + 1, roc_auc_score(val_y, oof_preds[val_idx])))  #  (某一折真实验证集label, 某一折预测验证集label)\n",
    "            del clf, trn_x, trn_y, val_x, val_y   \n",
    "\n",
    "            gc.collect()    \n",
    "\n",
    "        print('Full AUC score %.6f' % roc_auc_score(y_, oof_preds))     # (训练集真实label, 几折合并后的验证集预测label)\n",
    "\n",
    "        test_['isDefault'] = sub_preds # 测试集预测概率结果\n",
    "        Full_AUC = roc_auc_score(y_, oof_preds)\n",
    "    \n",
    "    \n",
    "    if(model_type=='xgb'):   \n",
    "        for n_fold, (trn_idx, val_idx) in enumerate(folds_.split(data_,y_)):  # 统一放到模型篇在搞这个对比了\n",
    "    #     for n_fold, (trn_idx, val_idx) in enumerate(folds_.split(data_)):\n",
    "            trn_x, trn_y = data_[feats].iloc[trn_idx], y_.iloc[trn_idx]\n",
    "            val_x, val_y = data_[feats].iloc[val_idx], y_.iloc[val_idx]\n",
    "    \n",
    "            clf = XGBClassifier(\n",
    "                n_estimators=4000,\n",
    "                learning_rate=0.08,\n",
    "                objective = 'binary:logistic',\n",
    "                use_label_encoder=False,\n",
    "                booster='gbtree',\n",
    "                colsample_bytree=0.75,\n",
    "                subsample=0.9,\n",
    "                max_depth=5,\n",
    "                reg_alpha=0.3,\n",
    "                reg_lambda=0.3,\n",
    "                min_child_weight=2,\n",
    "                gamma = 0.1,\n",
    "                )\n",
    "            \n",
    "            clf.fit(trn_x, trn_y, \n",
    "                eval_set= [(trn_x, trn_y), (val_x, val_y)], \n",
    "                eval_metric='auc', verbose=100, early_stopping_rounds=40  #30\n",
    "               )\n",
    "            \n",
    "            oof_preds[val_idx] = clf.predict_proba(val_x)[:, 1]\n",
    "            sub_preds += clf.predict_proba(test_[feats], )[:, 1] / folds_.n_splits\n",
    "            \n",
    "            fold_importance_df = pd.DataFrame()\n",
    "            fold_importance_df[\"feature\"] = feats\n",
    "            fold_importance_df[\"importance\"] = clf.feature_importances_\n",
    "            fold_importance_df[\"fold\"] = n_fold + 1\n",
    "            feature_importance_df = pd.concat([feature_importance_df, fold_importance_df], axis=0)\n",
    "            \n",
    "            print('Fold %2d AUC : %.6f' % (n_fold + 1, roc_auc_score(val_y, oof_preds[val_idx])))  #  (某一折真实验证集label, 某一折预测验证集label)\n",
    "            del clf, trn_x, trn_y, val_x, val_y   \n",
    "\n",
    "            gc.collect() \n",
    "\n",
    "        print('Full AUC score %.6f' % roc_auc_score(y_, oof_preds))     # (训练集真实label, 几折合并后的验证集预测label)\n",
    "        \n",
    "        test_['isDefault'] = sub_preds # 测试集预测概率结果\n",
    "        Full_AUC = roc_auc_score(y_, oof_preds)\n",
    "    \n",
    "    if(model_type=='cat'):   \n",
    "        for n_fold, (trn_idx, val_idx) in enumerate(folds_.split(data_,y_)):  # 统一放到模型篇在搞这个对比了\n",
    "    #     for n_fold, (trn_idx, val_idx) in enumerate(folds_.split(data_)):\n",
    "            trn_x, trn_y = data_[feats].iloc[trn_idx], y_.iloc[trn_idx]\n",
    "            val_x, val_y = data_[feats].iloc[val_idx], y_.iloc[val_idx]\n",
    "    \n",
    "            clf = CatBoostClassifier(\n",
    "                iterations=4000,\n",
    "                learning_rate=0.08,\n",
    "                num_leaves=2**5,\n",
    "                subsample=0.9,\n",
    "                depth=5,\n",
    "                reg_lambda=0.3,\n",
    "                silent=True,\n",
    "                eval_metric='AUC' # catboost的eval_metric是要写在实例化这里的, 不同于xgb, lgb\n",
    "#                 verbose=-1,\n",
    "            )\n",
    "\n",
    "            clf.fit(trn_x, trn_y, \n",
    "                eval_set= [(trn_x, trn_y), (val_x, val_y)], \n",
    "#                 eval_metric='auc',\n",
    "                verbose=0, \n",
    "                early_stopping_rounds=40  #30\n",
    "               )\n",
    "            \n",
    "            oof_preds[val_idx] = clf.predict_proba(val_x)[:, 1]\n",
    "            sub_preds += clf.predict_proba(test_[feats])[:, 1] / folds_.n_splits\n",
    "            \n",
    "            fold_importance_df = pd.DataFrame()\n",
    "            fold_importance_df[\"feature\"] = feats\n",
    "            fold_importance_df[\"importance\"] = clf.feature_importances_\n",
    "            fold_importance_df[\"fold\"] = n_fold + 1\n",
    "            feature_importance_df = pd.concat([feature_importance_df, fold_importance_df], axis=0)\n",
    "\n",
    "            print('Fold %2d AUC : %.6f' % (n_fold + 1, roc_auc_score(val_y, oof_preds[val_idx])))  #  (某一折真实验证集label, 某一折预测验证集label)\n",
    "            del clf, trn_x, trn_y, val_x, val_y   \n",
    "\n",
    "            gc.collect()    \n",
    "\n",
    "        print('Full AUC score %.6f' % roc_auc_score(y_, oof_preds))     # (训练集真实label, 几折合并后的验证集预测label)\n",
    "\n",
    "        test_['isDefault'] = sub_preds # 测试集预测概率结果\n",
    "        Full_AUC = roc_auc_score(y_, oof_preds)\n",
    "    \n",
    "    \n",
    "    return oof_preds, test_[['loan_id', 'isDefault']],  feature_importance_df,Full_AUC\n",
    "     # 几折合并后的验证集预测label, 测试集预测结果，特征重要性数据框"
   ]
  },
  {
   "cell_type": "code",
   "execution_count": null,
   "id": "bae12bde",
   "metadata": {},
   "outputs": [],
   "source": [
    "date_feas = ['date']\n",
    "orige_feas = ['X'+str(i) for i in range(0,21)]\n",
    "history_loan_feas = ['X'+str(i) for i in range(21,257)]\n",
    "other_act_feas = ['X'+str(i) for i in range(257,3806)]"
   ]
  },
  {
   "cell_type": "code",
   "execution_count": null,
   "id": "26bbb3d1",
   "metadata": {},
   "outputs": [],
   "source": [
    "score_result = []\n",
    "feature1 = other_act_feas[1800:100+1800]\n",
    "y = train_df_not['isDefault']\n",
    "folds = KFold(n_splits=5, shuffle=True, random_state=8828) \n",
    "oof_preds_cat, IntePre_cat, importances_cat,score = train_model_xlc(train_df_not, test, y, folds,feature1, model_type='cat')\n",
    "\n",
    "submit_cat = pd.DataFrame()\n",
    "submit_cat['idx'] = test['idx']\n",
    "submit_cat['y_pred'] = IntePre_cat['isDefault']\n",
    "submit_cat.to_csv(f'{score}_cat_date.csv',index=0)"
   ]
  },
  {
   "cell_type": "markdown",
   "id": "80958059",
   "metadata": {},
   "source": [
    "# 融合"
   ]
  },
  {
   "cell_type": "code",
   "execution_count": null,
   "id": "baab7434",
   "metadata": {},
   "outputs": [],
   "source": [
    "result_pan = (IntePre_cat1*IntePre_cat*IntePre)**(1/3)"
   ]
  },
  {
   "cell_type": "code",
   "execution_count": null,
   "id": "7640fed8",
   "metadata": {},
   "outputs": [],
   "source": [
    "result_pan"
   ]
  },
  {
   "cell_type": "code",
   "execution_count": null,
   "id": "2d96bd4e",
   "metadata": {},
   "outputs": [],
   "source": [
    "result_pan_final = pd.DataFrame({'idx':test['idx'],'y_pred':result_pan['isDefault']})"
   ]
  },
  {
   "cell_type": "markdown",
   "id": "5900250f",
   "metadata": {},
   "source": [
    "# 和队友融合"
   ]
  },
  {
   "cell_type": "code",
   "execution_count": null,
   "id": "16c322d5",
   "metadata": {},
   "outputs": [],
   "source": [
    "leaf_result = pd.read_csv('/leaf/0.7088.csv')"
   ]
  },
  {
   "cell_type": "code",
   "execution_count": null,
   "id": "741172e1",
   "metadata": {},
   "outputs": [],
   "source": [
    "def fusion(results_a, results_b, threshold=0.02):\n",
    "    \n",
    "    fused_results = []\n",
    "    for a, b in zip(results_a['y_pred'], results_b['y_pred']):\n",
    "        if abs(a - b) > threshold:\n",
    "            # 进行等权融合\n",
    "            fused_results.append((a * b) ** (1/2)) \n",
    "        else:\n",
    "            # 选择一个文件的结果\n",
    "            fused_results.append(a)  # 也可以选择 b\n",
    "    \n",
    "    return fused_results"
   ]
  },
  {
   "cell_type": "code",
   "execution_count": null,
   "id": "e6b3e00b",
   "metadata": {},
   "outputs": [],
   "source": [
    "final_result = fusion(result_pan_final, leaf_result, threshold=0.02)"
   ]
  },
  {
   "cell_type": "code",
   "execution_count": null,
   "id": "ba79f057",
   "metadata": {},
   "outputs": [],
   "source": [
    "pd.DataFrame({'idx':test['idx'],'y_pred':final_result}).to_csv('0.712777.csv',index=False)"
   ]
  },
  {
   "cell_type": "code",
   "execution_count": null,
   "id": "1933700d",
   "metadata": {},
   "outputs": [],
   "source": [
    "pd.DataFrame({'idx':test['idx'],'y_pred':final_result})"
   ]
  },
  {
   "cell_type": "code",
   "execution_count": null,
   "id": "ac1b54d4",
   "metadata": {},
   "outputs": [],
   "source": []
  }
 ],
 "metadata": {
  "kernelspec": {
   "display_name": "Python 3 (ipykernel)",
   "language": "python",
   "name": "python3"
  },
  "language_info": {
   "codemirror_mode": {
    "name": "ipython",
    "version": 3
   },
   "file_extension": ".py",
   "mimetype": "text/x-python",
   "name": "python",
   "nbconvert_exporter": "python",
   "pygments_lexer": "ipython3",
   "version": "3.9.13"
  }
 },
 "nbformat": 4,
 "nbformat_minor": 5
}
