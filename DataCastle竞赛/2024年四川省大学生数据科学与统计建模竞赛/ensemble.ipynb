{
 "cells": [
  {
   "cell_type": "code",
   "execution_count": null,
   "metadata": {},
   "outputs": [],
   "source": [
    "import pandas as pd\n",
    "import numpy as np\n",
    "\n",
    "sub1 = pd.read_csv(\"./sub/0.707所有特征和null交叉融合.csv\")\n",
    "sub2 = pd.read_csv(\"./sub/result_xgb_0.708928.csv\")\n",
    "\n",
    "# 绝对平均\n",
    "# result_avg = pd.DataFrame({'idx':sub1['idx'],'y_pred':(sub1['y_pred'] + sub2['y_pred'])/2})\n",
    "# 加权平均\n",
    "# result_avg = pd.DataFrame({'idx':sub1['idx'],'y_pred':(sub1['y_pred']*0.58 + sub2['y_pred']*0.42)})\n",
    "# 几何平均\n",
    "# result_avg = pd.DataFrame({'idx':sub1['idx'],'y_pred':(sub1['y_pred'] * sub2['y_pred'])**(1/2)})\n",
    "# 调和平均\n",
    "# result_avg = pd.DataFrame({'idx':sub1['idx'],'y_pred':1/((1/sub1['y_pred'] + 1/sub2['y_pred'])/2)})\n",
    "# 加权调和\n",
    "# result_avg = pd.DataFrame({'idx':sub1['idx'],'y_pred':1/((0.98/sub1['y_pred'] + 1.02/sub2['y_pred'])/2)})\n",
    "\n",
    "# result_avg.to_csv('./sub/result_avg.csv',index=False)"
   ]
  },
  {
   "cell_type": "code",
   "execution_count": 4,
   "metadata": {},
   "outputs": [],
   "source": [
    "def fusion(results_a, results_b, threshold=0.02):\n",
    "    \n",
    "    fused_results = []\n",
    "    for a, b in zip(results_a['y_pred'], results_b['y_pred']):\n",
    "        if abs(a - b) > threshold:\n",
    "            # 进行等权融合\n",
    "            fused_results.append(1/((0.98/a + 1.02/b)/2)) \n",
    "        else:\n",
    "            # 选择一个文件的结果\n",
    "            fused_results.append(a)  # 也可以选择 b\n",
    "    \n",
    "    return fused_results\n",
    "\n",
    "result_avg = pd.DataFrame({'idx':sub1['idx'],'y_pred':fusion(sub1,sub2)})\n",
    "\n",
    "result_avg.to_csv('./sub/result_avg.csv',index=False)"
   ]
  }
 ],
 "metadata": {
  "kernelspec": {
   "display_name": "machine_learning_39",
   "language": "python",
   "name": "python3"
  },
  "language_info": {
   "codemirror_mode": {
    "name": "ipython",
    "version": 3
   },
   "file_extension": ".py",
   "mimetype": "text/x-python",
   "name": "python",
   "nbconvert_exporter": "python",
   "pygments_lexer": "ipython3",
   "version": "3.9.18"
  }
 },
 "nbformat": 4,
 "nbformat_minor": 2
}
